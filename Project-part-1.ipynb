{
 "cells": [
  {
   "cell_type": "markdown",
   "metadata": {
    "tags": []
   },
   "source": [
    "# Self-Balancing Scooter Control\n",
    "\n",
    "![](images/self-balancing-scooter.png)\n",
    "\n",
    "> A self-balancing scooter [...] is a self-balancing personal transporter consisting of two motorized wheels connected to a pair of articulated pads on which the rider places their feet. The rider controls the speed by leaning forward or backward, and direction of travel by twisting the pads.\n",
    "> \n",
    "> Source: <https://en.wikipedia.org/wiki/Self-balancing_scooter>"
   ]
  },
  {
   "cell_type": "markdown",
   "metadata": {},
   "source": [
    "### Python Dependencies"
   ]
  },
  {
   "cell_type": "code",
   "execution_count": 78,
   "metadata": {},
   "outputs": [],
   "source": [
    "from numpy import *\n",
    "from numpy.linalg import *\n",
    "\n",
    "from scipy.linalg import *\n",
    "from scipy.integrate import *\n",
    "from scipy.signal import *\n",
    "\n",
    "from matplotlib.pyplot import *"
   ]
  },
  {
   "cell_type": "markdown",
   "metadata": {
    "tags": []
   },
   "source": [
    "Step 1 - Scooter Planar Model\n",
    "================================"
   ]
  },
  {
   "cell_type": "markdown",
   "metadata": {
    "tags": []
   },
   "source": [
    "### Introduction"
   ]
  },
  {
   "cell_type": "markdown",
   "metadata": {
    "tags": []
   },
   "source": [
    "We consider a simple model of a self-balancing scooter evolving in the plane. It is mainly made of\n",
    "\n",
    "  - The frame that contains the two articulated pads; from above, each pad essentially look like a triangle (one vertice in the center of the frame, one vertice at each extremity of the wheel).\n",
    "\n",
    "  - Two fixed wheels (their orientation with respect to the frame does not change). \n",
    "    They are parallel and located at opposite ends of the frame. \n",
    "    \n",
    "Let $(0, e_x, e_y)$ be a direct orthonormal frame of the plane. We denote \n",
    "\n",
    "  - $(x, y)$ the coordinates of the wheel axis center in the orthonormal and \n",
    "  - $\\theta$ the angle of the wheels direction with respect to vector $e_x$ ; with $\\theta = 0$ when the front of the scooter faces the right ($e_x$) and $\\theta = \\pi/2$ when it faces upwards ($e_y$).\n",
    "\n",
    "  - $\\phi_l$ and $\\phi_r$ the rotation angles of the left and right wheel respectively ; by convention, when these angles increase, the scooter moves forward."
   ]
  },
  {
   "cell_type": "markdown",
   "metadata": {
    "tags": []
   },
   "source": [
    "### Parameter Definition"
   ]
  },
  {
   "cell_type": "markdown",
   "metadata": {
    "tags": []
   },
   "source": [
    "From now on, we assume that the seat frame length is $\\ell = 50 \\mbox{ cm}$ and the wheel radius is $r = 12.5 \\mbox{ cm}$.\n",
    "\n",
    "🧩 Define the corresponding Python variables `l` and `r` (express every length in meters, and more generally in the sequel, always use the [international standard of units](https://en.wikipedia.org/wiki/SI_derived_unit)) for numerical values. "
   ]
  },
  {
   "cell_type": "code",
   "execution_count": 14,
   "metadata": {},
   "outputs": [],
   "source": [
    "l = 0.5\n",
    "r = 0.125"
   ]
  },
  {
   "cell_type": "markdown",
   "metadata": {},
   "source": [
    "### Graphical Representation\n",
    "\n",
    "🧩 Implement a function `draw_scooter` with arguments `x`, `y` and `theta` that draws a simple geometric model of the wheelchair (with a red frame and black fixed wheels) in the plane (top view) for arbitrary values of $(x, y)$ and $\\theta$. Use a green circle marker 50 cm in of the frame to indicate which way is forward.\n",
    "\n",
    "🗝️ **Hint.** Use the function `plot` of `matplotlib.pyplot`."
   ]
  },
  {
   "cell_type": "code",
   "execution_count": 104,
   "metadata": {},
   "outputs": [
    {
     "data": {
      "image/png": "[encoded data removed]",
      "text/plain": [
       "<Figure size 640x480 with 1 Axes>"
      ]
     },
     "metadata": {},
     "output_type": "display_data"
    }
   ],
   "source": [
    "import numpy as np\n",
    "import matplotlib.pyplot as plt\n",
    "\n",
    "\n",
    "def draw_scooter(x, y, theta):\n",
    "    fig, ax = plt.subplots()\n",
    "    \n",
    "    \n",
    "    # Définir le cadre comme deux triangles (chaque plateforme)\n",
    "    demi_longueur = l / 2\n",
    "    hauteur_plateforme = l / 4  # hauteur de chaque triangle (choix arbitraire pour la visualisation)\n",
    "    \n",
    "    # Définir les sommets des plateformes gauche et droite\n",
    "    plateforme_gauche = np.array([\n",
    "        [hauteur_plateforme, demi_longueur],\n",
    "        [0, 0],\n",
    "        [-hauteur_plateforme,demi_longueur]\n",
    "    ])\n",
    "    \n",
    "    plateforme_droite = np.array([\n",
    "        [hauteur_plateforme, -demi_longueur],\n",
    "        [0, 0],\n",
    "        [-hauteur_plateforme,-demi_longueur]\n",
    "    ])\n",
    "    \n",
    "    # Définir les positions des roues\n",
    "    positions_roues = [\n",
    "        [-r, demi_longueur],  # roue gauche bas\n",
    "        [r, demi_longueur],   # roue gauche haut\n",
    "        [-r, -demi_longueur],   # roue droite bas\n",
    "        [r,-demi_longueur]     # roue droite haut\n",
    "    ]\n",
    "    \n",
    "    # Matrice de rotation pour l'angle theta\n",
    "    R = np.array([[np.cos(theta), -np.sin(theta)],\n",
    "        [np.sin(theta), np.cos(theta)]\n",
    "    ])\n",
    "    \n",
    "    \n",
    "    # Tourner et traduire les points des roues\n",
    "    roues = [np.dot(R, pos) + [x, y] for pos in positions_roues]\n",
    "    plateforme_gauche = [np.dot(R, pos) + [x, y] for pos in plateforme_gauche]\n",
    "    plateforme_droite = [np.dot(R, pos) + [x, y] for pos in plateforme_droite]\n",
    "\n",
    "\n",
    "    # Dessiner la plateforme gauche\n",
    "    poly_gauche = plt.Polygon(plateforme_gauche, color='red')\n",
    "    ax.add_patch(poly_gauche)\n",
    "    \n",
    "    # Dessiner la plateforme droite\n",
    "    poly_droite = plt.Polygon(plateforme_droite, color='red')\n",
    "    ax.add_patch(poly_droite)\n",
    "    \n",
    "    # Dessiner les roues comme des lignes\n",
    "    ax.plot([roues[0][0], roues[1][0]], [roues[0][1], roues[1][1]], 'k-', lw=5)  # ligne noire pour la roue gauche\n",
    "    ax.plot([roues[2][0], roues[3][0]], [roues[2][1], roues[3][1]], 'k-', lw=5)  # ligne noire pour la roue droite\n",
    "    \n",
    "    # Dessiner le marqueur de direction vers l'avant\n",
    "    marqueur_avant = np.dot(R, [0.5, 0]) + [x, y]  # 50 cm (0,5 mètres) devant le cadre\n",
    "    cercle_vert = plt.Circle((marqueur_avant[0], marqueur_avant[1]), 0.025, color='green', fill=True)  # rayon de 0.025 mètres, 50 cm est trop grand\n",
    "    ax.add_patch(cercle_vert)\n",
    "    \n",
    "    # Définir les limites du graphique\n",
    "    ax.set_xlim(x - 1, x + 1)\n",
    "    ax.set_ylim(y - 1, y + 1)\n",
    "    \n",
    "    # Ajouter des lignes de grille pour référence visuelle\n",
    "    ax.grid(True)\n",
    "    \n",
    "    # Définir un rapport d'aspect égal\n",
    "    ax.set_aspect('equal')\n",
    "    plt.show()\n",
    "\n",
    "# Exemple d'utilisation\n",
    "draw_scooter(1, 2, 0)"
   ]
  },
  {
   "cell_type": "markdown",
   "metadata": {},
   "source": [
    "🧩 Represent the wheelchair when $(x, y, \\theta) = (0, 0, 0), (2, 2, \\pi/2), (0, 4, \\pi), (-2, 2, 3\\pi/2)$.\n",
    "\n",
    "🗝️ **Hint.** Use the following `draw_arena` function beforehand."
   ]
  },
  {
   "cell_type": "code",
   "execution_count": 105,
   "metadata": {},
   "outputs": [],
   "source": [
    "def draw_arena(xmin, xmax, ymin, ymax):\n",
    "    wh_ratio = (xmax - xmin) / (ymax - ymin)\n",
    "    figsize = fig_width, fig_height = 16, 16 / wh_ratio\n",
    "    figure(figsize=figsize)\n",
    "    axes = gca()\n",
    "    axes.axis([xmin, xmax, ymin, ymax])\n",
    "    axes.set_aspect(1)\n",
    "    xticks(arange(xmin, xmax+1, 1))\n",
    "    yticks(arange(ymin, ymax+1, 1))\n",
    "    grid(True)\n",
    "    return axes"
   ]
  },
  {
   "cell_type": "markdown",
   "metadata": {},
   "source": [
    "#### On crée une version modifiée de draw_scooter qui prend en compte l'argument ax (un plot existant)"
   ]
  },
  {
   "cell_type": "code",
   "execution_count": 100,
   "metadata": {},
   "outputs": [],
   "source": [
    "# On crée une version modifiée de draw_scooter qui prend en compte l'argument ax (un plot existant)\n",
    "def draw_scooterv2(ax, x, y, theta, label):\n",
    "    # Define the frame as two triangles (each platform)\n",
    "    demi_longueur = l / 2\n",
    "    hauteur_plateforme = l / 4  # height of each triangle (arbitrary choice for visualization)\n",
    "    \n",
    "    # Define the vertices of the left and right platforms\n",
    "    plateforme_gauche = np.array([\n",
    "        [hauteur_plateforme, demi_longueur],\n",
    "        [0, 0],\n",
    "        [-hauteur_plateforme, demi_longueur]\n",
    "    ])\n",
    "    \n",
    "    plateforme_droite = np.array([\n",
    "        [hauteur_plateforme, -demi_longueur],\n",
    "        [0, 0],\n",
    "        [-hauteur_plateforme, -demi_longueur]\n",
    "    ])\n",
    "    \n",
    "    # Define the positions of the wheels\n",
    "    positions_roues = [\n",
    "        [-r, demi_longueur],  # bottom left wheel\n",
    "        [r, demi_longueur],   # top left wheel\n",
    "        [-r, -demi_longueur],   # bottom right wheel\n",
    "        [r, -demi_longueur]     # top right wheel\n",
    "    ]\n",
    "    \n",
    "    # Rotation matrix for the angle theta\n",
    "    R = np.array([[np.cos(theta), -np.sin(theta)],\n",
    "                  [np.sin(theta), np.cos(theta)]\n",
    "                 ])\n",
    "    \n",
    "    # Rotate and translate the wheel points\n",
    "    roues = [np.dot(R, pos) + [x, y] for pos in positions_roues]\n",
    "    plateforme_gauche = [np.dot(R, pos) + [x, y] for pos in plateforme_gauche]\n",
    "    plateforme_droite = [np.dot(R, pos) + [x, y] for pos in plateforme_droite]\n",
    "\n",
    "    # Draw the left platform\n",
    "    poly_gauche = plt.Polygon(plateforme_gauche, color='red')\n",
    "    ax.add_patch(poly_gauche)\n",
    "    \n",
    "    # Draw the right platform\n",
    "    poly_droite = plt.Polygon(plateforme_droite, color='red')\n",
    "    ax.add_patch(poly_droite)\n",
    "    \n",
    "    # Draw the wheels as lines\n",
    "    ax.plot([roues[0][0], roues[1][0]], [roues[0][1], roues[1][1]], 'k-', lw=5)  # black line for the left wheel\n",
    "    ax.plot([roues[2][0], roues[3][0]], [roues[2][1], roues[3][1]], 'k-', lw=5)  # black line for the right wheel\n",
    "    \n",
    "    # Draw the forward direction marker\n",
    "    marqueur_avant = np.dot(R, [0.5, 0]) + [x, y]  # 50 cm (0.5 meters) in front of the frame\n",
    "    cercle_vert = plt.Circle((marqueur_avant[0], marqueur_avant[1]), 0.025, color='green', fill=True)  # radius of 0.025 meters\n",
    "    ax.add_patch(cercle_vert)\n",
    "    \n",
    "    # Annotate the position used\n",
    "    ax.text(x, y - 0.6, label, ha='center', fontsize=12)\n"
   ]
  },
  {
   "cell_type": "code",
   "execution_count": 102,
   "metadata": {},
   "outputs": [
    {
     "data": {
      "image/png": "[encoded data removed]",
      "text/plain": [
       "<Figure size 1600x1600 with 1 Axes>"
      ]
     },
     "metadata": {},
     "output_type": "display_data"
    }
   ],
   "source": [
    "axes = draw_arena(-3, 3, -1, 5)\n",
    "scooter_positions = [\n",
    "    (0, 0, 0, \"(0, 0, 0)\"),\n",
    "    (2, 2, np.pi/2, \"(2, 2, π/2)\"),\n",
    "    (0, 4, np.pi, \"(0, 4, π)\"),\n",
    "    (-2, 2, 3*np.pi/2, \"(-2, 2, 3π/2)\")\n",
    "]\n",
    "\n",
    "for pos in scooter_positions:\n",
    "    draw_scooterv2(axes, pos[0], pos[1], pos[2], pos[3])\n",
    "\n",
    "plt.show()"
   ]
  },
  {
   "cell_type": "markdown",
   "metadata": {},
   "source": [
    "### Kinematic Modeling\n",
    "\n",
    "We assume that we can control the wheels angular velocities $\\omega_l = \\dot{\\phi}_l$ and $\\omega_r = \\dot{\\phi}_r$ (this is a *kinematic* model of the wheelchair).\n",
    "We also assume that the wheelchair fixed wheels roll without slipping. \n",
    "\n",
    "🧩 Establish the differential equations that relate $\\dot{x}$,\n",
    "$\\dot{y}$ and $\\dot{\\theta}$ with $\\omega_l$ and $\\omega_r$."
   ]
  },
  {
   "cell_type": "markdown",
   "metadata": {},
   "source": [
    "the velocity of the center of each wheel is given by :\n",
    "<br>\n",
    "$$\n",
    "\\begin{aligned}\n",
    "v_l & =r \\omega_l \\\\\n",
    "v_r & =r \\omega_r\n",
    "\\end{aligned}\n",
    "$$\n",
    "<br>\n",
    "The velocity of the wheel axis center C can be computed as the average of the velocities of the two wheels:\n",
    "<br>\n",
    "$$\n",
    "v_C=\\frac{v_l+v_r}{2}=\\frac{r}{2}\\left(\\omega_l+\\omega_r\\right)\n",
    "$$\n",
    "<br>\n",
    "The direction of the velocity of the center of the wheel axis is the direction of the vector (because θ=0  when the front of the scooter faces the right ( ex ) and  θ=π/2  when it faces upwards ( ey )), thus:\n",
    "<br>\n",
    "$$\n",
    "\\begin{aligned}\n",
    "& \\dot{x}=v_C \\cos \\theta \\\\\n",
    "& \\dot{y}=v_C \\sin \\theta\n",
    "\\end{aligned}\n",
    "$$\n",
    "<br>\n",
    "Finally, the angular velocity of the scooter is given by the difference of the velocities of the two wheels divided by the distance between the wheels:\n",
    "<br>\n",
    "$$\n",
    "\\dot{\\theta}=\\frac{v_r-v_l}{l}=\\frac{r}{l}\\left(\\omega_r-\\omega_l\\right)\n",
    "$$\n",
    "<br>\n",
    "Therefore, the differential equations relating  are:\n",
    "<br>\n",
    "$$\n",
    "\\begin{aligned}\n",
    "& \\dot{x}=\\frac{r}{2}\\left(\\omega_l+\\omega_r\\right) \\cos \\theta \\\\\n",
    "& \\dot{y}=\\frac{r}{2}\\left(\\omega_l+\\omega_r\\right) \\sin \\theta \\\\\n",
    "& \\dot{\\theta}=\\frac{r}{l}\\left(\\omega_r-\\omega_l\\right)\n",
    "\\end{aligned}\n",
    "$$"
   ]
  },
  {
   "cell_type": "markdown",
   "metadata": {},
   "source": [
    "### Analysis\n",
    "\n",
    "🧩 Show that if $\\omega_l$ and $\\omega_r$ are continuously differentiable functions of $(x, y, \\theta)$ (which includes the case of constant inputs), this system is well-posed."
   ]
  },
  {
   "cell_type": "markdown",
   "metadata": {},
   "source": [
    "**TODO**"
   ]
  },
  {
   "cell_type": "markdown",
   "metadata": {},
   "source": [
    "🧩 Show that if $\\omega_l$ and $\\omega_r$ are constants, the maximal solution associated to any initial state is global. Is is still true of $\\omega_l$ and $\\omega_r$ are arbitrary continuously differentiable functions of $(x, y, \\theta)$ ?"
   ]
  },
  {
   "cell_type": "markdown",
   "metadata": {},
   "source": [
    "**TODO**"
   ]
  },
  {
   "cell_type": "markdown",
   "metadata": {},
   "source": [
    "### Vector Field\n",
    "\n",
    "In the sequel, `omega` is a function that computes the input vector $\\omega := (\\omega_l, \\omega_r)$ given the time $t$ and $(x, y, \\theta)$ (thus, it may depend on the time and/or on the system state if needed). For example:"
   ]
  },
  {
   "cell_type": "code",
   "execution_count": 6,
   "metadata": {},
   "outputs": [],
   "source": [
    "def omega(t, xytheta):\n",
    "    omega_l = (1 - l/4) * pi / r\n",
    "    omega_r = (1 + l/4) * pi / r\n",
    "    return array([omega_l, omega_r])"
   ]
  },
  {
   "cell_type": "markdown",
   "metadata": {},
   "source": [
    "🧩 Implement a function `fun(t, xytheta)` that computes $(\\dot{x}, \\dot{y}, \\dot{\\theta})$ given the time $t$ and $(x,y,\\theta)$ (and implicitly the inputs $\\omega$ computed by the function `omega`)."
   ]
  },
  {
   "cell_type": "code",
   "execution_count": 7,
   "metadata": {},
   "outputs": [],
   "source": [
    "pass"
   ]
  },
  {
   "cell_type": "markdown",
   "metadata": {},
   "source": [
    "### Simulation Setup\n",
    "\n",
    "🧩 Simulate the wheelchair dynamics for 4 seconds when $(x_0, y_0, \\theta_0)(t=0) = (0.0, 0.0, 0.0)$,\n",
    "and the wheels velocities are the constants $\\omega_l = (1 - \\ell/4)  \\pi / r \\mbox{ rad/s}$ and $\\omega_r = (1 + \\ell/4)  \\pi / r \\mbox{ rad/s}$.\n",
    "(Compute the dense outputs.)\n",
    "   "
   ]
  },
  {
   "cell_type": "code",
   "execution_count": 8,
   "metadata": {},
   "outputs": [],
   "source": [
    "pass"
   ]
  },
  {
   "cell_type": "markdown",
   "metadata": {},
   "source": [
    "🧩 Use the simulation results to draw the graphs of $x(t)$, $y(t)$ and $\\theta(t)$."
   ]
  },
  {
   "cell_type": "code",
   "execution_count": 9,
   "metadata": {},
   "outputs": [],
   "source": [
    "pass"
   ]
  },
  {
   "cell_type": "markdown",
   "metadata": {},
   "source": [
    "🧩 Use the simulation results to display the robot location every 0.5 second."
   ]
  },
  {
   "cell_type": "code",
   "execution_count": 10,
   "metadata": {},
   "outputs": [],
   "source": [
    "pass"
   ]
  },
  {
   "cell_type": "markdown",
   "metadata": {},
   "source": [
    "🧩 What should be the analytical expression of $x(t)$, $y(t)$ and $\\theta(t)$? "
   ]
  },
  {
   "cell_type": "markdown",
   "metadata": {},
   "source": [
    "**TODO**"
   ]
  },
  {
   "cell_type": "markdown",
   "metadata": {},
   "source": [
    "🧩 Do you experimental results match the theoretical results ? Draw the curves of the simulation error at time $t$ for $x$, $y$ and $\\theta$."
   ]
  },
  {
   "cell_type": "code",
   "execution_count": 11,
   "metadata": {},
   "outputs": [],
   "source": [
    "pass"
   ]
  },
  {
   "cell_type": "markdown",
   "metadata": {},
   "source": [
    "🧩 If needed, adjust the simulation parameters the simulated position error is less than $1\\, \\mathrm{ mm}$. "
   ]
  },
  {
   "cell_type": "code",
   "execution_count": 12,
   "metadata": {},
   "outputs": [],
   "source": [
    "pass"
   ]
  }
 ],
 "metadata": {
  "kernelspec": {
   "display_name": "Python 3 (ipykernel)",
   "language": "python",
   "name": "python3"
  },
  "language_info": {
   "codemirror_mode": {
    "name": "ipython",
    "version": 3
   },
   "file_extension": ".py",
   "mimetype": "text/x-python",
   "name": "python",
   "nbconvert_exporter": "python",
   "pygments_lexer": "ipython3",
   "version": "3.11.7"
  }
 },
 "nbformat": 4,
 "nbformat_minor": 4
}
